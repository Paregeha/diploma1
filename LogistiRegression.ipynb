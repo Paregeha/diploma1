{
 "cells": [
  {
   "cell_type": "code",
   "execution_count": 1,
   "id": "initial_id",
   "metadata": {
    "collapsed": true,
    "ExecuteTime": {
     "end_time": "2024-03-13T08:58:53.309063Z",
     "start_time": "2024-03-13T08:58:47.279926Z"
    }
   },
   "outputs": [],
   "source": [
    "from tensorflow.keras.models import Sequential\n",
    "from tensorflow.keras.layers import Conv2D, MaxPooling2D, Flatten, Dense\n",
    "import os\n",
    "import numpy as np\n",
    "from tensorflow.keras.preprocessing.image import load_img, img_to_array\n",
    "from sklearn.model_selection import train_test_split\n",
    "import cv2"
   ]
  },
  {
   "cell_type": "code",
   "outputs": [
    {
     "name": "stderr",
     "output_type": "stream",
     "text": [
      "C:\\Users\\Olexandr Perehinchuk\\AppData\\Local\\Programs\\Python\\Python39\\lib\\site-packages\\keras\\src\\layers\\reshaping\\flatten.py:37: UserWarning: Do not pass an `input_shape`/`input_dim` argument to a layer. When using Sequential models, prefer using an `Input(shape)` object as the first layer in the model instead.\n",
      "  super().__init__(**kwargs)\n"
     ]
    }
   ],
   "source": [
    "# Логістична регресія\n",
    "from tensorflow.keras import layers, models\n",
    "\n",
    "model = models.Sequential([\n",
    "    layers.Flatten(input_shape=(224, 224, 3)),  # Вхідний шар: 224x224 RGB зображення\n",
    "    layers.Dense(2, activation='softmax')      # Вихідний шар з трьома нейронами для класифікації (наприклад, 3 класи)\n",
    "])"
   ],
   "metadata": {
    "collapsed": false,
    "ExecuteTime": {
     "end_time": "2024-03-13T08:58:53.480611Z",
     "start_time": "2024-03-13T08:58:53.313052Z"
    }
   },
   "id": "89d1c56d378eae02",
   "execution_count": 2
  },
  {
   "cell_type": "code",
   "outputs": [
    {
     "name": "stdout",
     "output_type": "stream",
     "text": [
      "[]\n"
     ]
    }
   ],
   "source": [
    "import tensorflow as tf\n",
    "\n",
    "# Allow gpu usage\n",
    "gpus = tf.config.experimental.list_physical_devices('GPU')\n",
    "print(gpus)\n",
    "try:\n",
    "    tf.config.experimental.set_memory_growth = True\n",
    "except Exception as ex:\n",
    "    print(ex)"
   ],
   "metadata": {
    "collapsed": false,
    "ExecuteTime": {
     "end_time": "2024-03-13T08:58:53.495572Z",
     "start_time": "2024-03-13T08:58:53.482606Z"
    }
   },
   "id": "ed5a1f66306c2f73",
   "execution_count": 3
  },
  {
   "cell_type": "code",
   "outputs": [],
   "source": [
    "def load_images_from_folder(folder_path, img_size=(224, 224)):\n",
    "    images = []\n",
    "    labels = []\n",
    "\n",
    "    for filename in os.listdir(folder_path):\n",
    "        label = filename  # Assuming file name format is label.image_number.jpg\n",
    "        if label == \"Cancer\":\n",
    "            label1 = 1 # Convert label to integer if necessary\n",
    "        else:\n",
    "            label1 = 0\n",
    "        \n",
    "        for photoname in os.listdir(folder_path + \"/\" + label):\n",
    "            img = cv2.imread(os.path.join(folder_path, filename, photoname))\n",
    "            img = cv2.resize(img, img_size)  # Resize image to desired dimensions\n",
    "            images.append(img)\n",
    "            labels.append(label1)\n",
    "\n",
    "    images = np.array(images)\n",
    "    labels = np.array(labels)\n",
    "\n",
    "    return images, labels"
   ],
   "metadata": {
    "collapsed": false,
    "ExecuteTime": {
     "end_time": "2024-03-13T08:58:53.511530Z",
     "start_time": "2024-03-13T08:58:53.497567Z"
    }
   },
   "id": "ce6f6c9e16135ab5",
   "execution_count": 4
  },
  {
   "cell_type": "code",
   "outputs": [],
   "source": [
    "imagesTrain, labelsTrain = load_images_from_folder(\"Train1\")\n"
   ],
   "metadata": {
    "collapsed": false,
    "ExecuteTime": {
     "end_time": "2024-03-13T09:00:05.210895Z",
     "start_time": "2024-03-13T08:58:53.515520Z"
    }
   },
   "id": "d440c91c3039b742",
   "execution_count": 5
  },
  {
   "cell_type": "code",
   "outputs": [],
   "source": [
    "imagesTest, labelsTest = load_images_from_folder(\"Test1\")\n"
   ],
   "metadata": {
    "collapsed": false,
    "ExecuteTime": {
     "end_time": "2024-03-13T09:00:22.231117Z",
     "start_time": "2024-03-13T09:00:05.212890Z"
    }
   },
   "id": "444fe8dd33b764ee",
   "execution_count": 6
  },
  {
   "cell_type": "code",
   "outputs": [
    {
     "name": "stdout",
     "output_type": "stream",
     "text": [
      "Epoch 1/10\n",
      "\u001B[1m56/56\u001B[0m \u001B[32m━━━━━━━━━━━━━━━━━━━━\u001B[0m\u001B[37m\u001B[0m \u001B[1m3s\u001B[0m 21ms/step - accuracy: 0.5346 - loss: 10700.6660 - val_accuracy: 0.0692 - val_loss: 2745.9280\n",
      "Epoch 2/10\n",
      "\u001B[1m56/56\u001B[0m \u001B[32m━━━━━━━━━━━━━━━━━━━━\u001B[0m\u001B[37m\u001B[0m \u001B[1m1s\u001B[0m 15ms/step - accuracy: 0.5311 - loss: 2610.0879 - val_accuracy: 0.2902 - val_loss: 1028.8580\n",
      "Epoch 3/10\n",
      "\u001B[1m56/56\u001B[0m \u001B[32m━━━━━━━━━━━━━━━━━━━━\u001B[0m\u001B[37m\u001B[0m \u001B[1m1s\u001B[0m 14ms/step - accuracy: 0.5799 - loss: 882.2768 - val_accuracy: 0.0000e+00 - val_loss: 8408.0547\n",
      "Epoch 4/10\n",
      "\u001B[1m56/56\u001B[0m \u001B[32m━━━━━━━━━━━━━━━━━━━━\u001B[0m\u001B[37m\u001B[0m \u001B[1m1s\u001B[0m 15ms/step - accuracy: 0.5320 - loss: 2911.9133 - val_accuracy: 0.6853 - val_loss: 193.0042\n",
      "Epoch 5/10\n",
      "\u001B[1m56/56\u001B[0m \u001B[32m━━━━━━━━━━━━━━━━━━━━\u001B[0m\u001B[37m\u001B[0m \u001B[1m1s\u001B[0m 13ms/step - accuracy: 0.5776 - loss: 896.4871 - val_accuracy: 0.0000e+00 - val_loss: 4287.5474\n",
      "Epoch 6/10\n",
      "\u001B[1m56/56\u001B[0m \u001B[32m━━━━━━━━━━━━━━━━━━━━\u001B[0m\u001B[37m\u001B[0m \u001B[1m1s\u001B[0m 14ms/step - accuracy: 0.5514 - loss: 2099.1943 - val_accuracy: 0.9978 - val_loss: 2.5490\n",
      "Epoch 7/10\n",
      "\u001B[1m56/56\u001B[0m \u001B[32m━━━━━━━━━━━━━━━━━━━━\u001B[0m\u001B[37m\u001B[0m \u001B[1m1s\u001B[0m 14ms/step - accuracy: 0.5882 - loss: 909.6594 - val_accuracy: 0.0000e+00 - val_loss: 8952.0996\n",
      "Epoch 8/10\n",
      "\u001B[1m56/56\u001B[0m \u001B[32m━━━━━━━━━━━━━━━━━━━━\u001B[0m\u001B[37m\u001B[0m \u001B[1m1s\u001B[0m 14ms/step - accuracy: 0.5582 - loss: 2246.6108 - val_accuracy: 0.0022 - val_loss: 6148.1318\n",
      "Epoch 9/10\n",
      "\u001B[1m56/56\u001B[0m \u001B[32m━━━━━━━━━━━━━━━━━━━━\u001B[0m\u001B[37m\u001B[0m \u001B[1m1s\u001B[0m 14ms/step - accuracy: 0.5699 - loss: 1979.0626 - val_accuracy: 0.0045 - val_loss: 4123.2373\n",
      "Epoch 10/10\n",
      "\u001B[1m56/56\u001B[0m \u001B[32m━━━━━━━━━━━━━━━━━━━━\u001B[0m\u001B[37m\u001B[0m \u001B[1m1s\u001B[0m 14ms/step - accuracy: 0.5769 - loss: 1318.8287 - val_accuracy: 0.2790 - val_loss: 1067.7979\n"
     ]
    }
   ],
   "source": [
    "imagesTrain, labelsTrain = load_images_from_folder(\"Train1\")\n",
    "# Compile the model\n",
    "model.compile(optimizer='adam',\n",
    "              loss='sparse_categorical_crossentropy',\n",
    "              metrics=['accuracy'])\n",
    "\n",
    "# Train the model\n",
    "history = model.fit(imagesTrain, labelsTrain, epochs=10, validation_split=0.2)"
   ],
   "metadata": {
    "collapsed": false,
    "ExecuteTime": {
     "end_time": "2024-03-13T09:01:51.394537Z",
     "start_time": "2024-03-13T09:00:22.233111Z"
    }
   },
   "id": "30022e1e4a79c434",
   "execution_count": 7
  },
  {
   "cell_type": "code",
   "outputs": [
    {
     "name": "stdout",
     "output_type": "stream",
     "text": [
      "\u001B[1m4/4\u001B[0m \u001B[32m━━━━━━━━━━━━━━━━━━━━\u001B[0m\u001B[37m\u001B[0m \u001B[1m1s\u001B[0m 5ms/step - accuracy: 0.5234 - loss: 1329.2258  \n",
      "Test Accuracy: 0.4830508530139923\n",
      "\u001B[1m70/70\u001B[0m \u001B[32m━━━━━━━━━━━━━━━━━━━━\u001B[0m\u001B[37m\u001B[0m \u001B[1m1s\u001B[0m 7ms/step - accuracy: 0.7970 - loss: 255.8467\n",
      "0.6105404496192932\n"
     ]
    }
   ],
   "source": [
    "test_loss, test_accuracy = model.evaluate(imagesTest, labelsTest)\n",
    "print(f\"Test Accuracy: {test_accuracy}\")\n",
    "test_loss1, test_accuracy1 = model.evaluate(imagesTrain, labelsTrain)\n",
    "print(test_accuracy1)"
   ],
   "metadata": {
    "collapsed": false,
    "ExecuteTime": {
     "end_time": "2024-03-13T09:01:53.333435Z",
     "start_time": "2024-03-13T09:01:51.397528Z"
    }
   },
   "id": "5f68b78b4331976a",
   "execution_count": 8
  },
  {
   "cell_type": "code",
   "outputs": [],
   "source": [],
   "metadata": {
    "collapsed": false
   },
   "id": "f8753612e5be113b"
  }
 ],
 "metadata": {
  "kernelspec": {
   "display_name": "Python 3",
   "language": "python",
   "name": "python3"
  },
  "language_info": {
   "codemirror_mode": {
    "name": "ipython",
    "version": 2
   },
   "file_extension": ".py",
   "mimetype": "text/x-python",
   "name": "python",
   "nbconvert_exporter": "python",
   "pygments_lexer": "ipython2",
   "version": "2.7.6"
  }
 },
 "nbformat": 4,
 "nbformat_minor": 5
}
