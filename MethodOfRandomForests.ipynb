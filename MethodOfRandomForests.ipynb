{
 "cells": [
  {
   "cell_type": "code",
   "execution_count": 1,
   "id": "initial_id",
   "metadata": {
    "collapsed": true,
    "ExecuteTime": {
     "end_time": "2024-03-13T08:58:45.623284Z",
     "start_time": "2024-03-13T08:58:41.741496Z"
    }
   },
   "outputs": [],
   "source": [
    "from tensorflow.keras.models import Sequential\n",
    "from tensorflow.keras.layers import Conv2D, MaxPooling2D, Flatten, Dense\n",
    "import os\n",
    "import numpy as np\n",
    "from tensorflow.keras.preprocessing.image import load_img, img_to_array\n",
    "from sklearn.model_selection import train_test_split\n",
    "import cv2"
   ]
  },
  {
   "cell_type": "code",
   "outputs": [],
   "source": [
    "#метод пипадкових лісів\n",
    "import numpy as np\n",
    "from sklearn.ensemble import RandomForestClassifier\n",
    "\n",
    "model = RandomForestClassifier(n_estimators=100, random_state=42)"
   ],
   "metadata": {
    "collapsed": false,
    "ExecuteTime": {
     "end_time": "2024-03-13T08:58:46.371319Z",
     "start_time": "2024-03-13T08:58:45.626275Z"
    }
   },
   "id": "89d1c56d378eae02",
   "execution_count": 2
  },
  {
   "cell_type": "code",
   "outputs": [
    {
     "name": "stdout",
     "output_type": "stream",
     "text": [
      "[]\n"
     ]
    }
   ],
   "source": [
    "import tensorflow as tf\n",
    "\n",
    "# Allow gpu usage\n",
    "gpus = tf.config.experimental.list_physical_devices('GPU')\n",
    "print(gpus)\n",
    "try:\n",
    "    tf.config.experimental.set_memory_growth = True\n",
    "except Exception as ex:\n",
    "    print(ex)"
   ],
   "metadata": {
    "collapsed": false,
    "ExecuteTime": {
     "end_time": "2024-03-13T08:58:46.387273Z",
     "start_time": "2024-03-13T08:58:46.373310Z"
    }
   },
   "id": "ed5a1f66306c2f73",
   "execution_count": 3
  },
  {
   "cell_type": "code",
   "outputs": [],
   "source": [
    "def load_images_from_folder(folder_path, img_size=(224, 224)):\n",
    "    images = []\n",
    "    labels = []\n",
    "\n",
    "    for filename in os.listdir(folder_path):\n",
    "        label = filename  # Assuming file name format is label.image_number.jpg\n",
    "        if label == \"Cancer\":\n",
    "            label1 = 1 # Convert label to integer if necessary\n",
    "        else:\n",
    "            label1 = 0\n",
    "        \n",
    "        for photoname in os.listdir(folder_path + \"/\" + label):\n",
    "            img = cv2.imread(os.path.join(folder_path, filename, photoname))\n",
    "            img = cv2.resize(img, img_size)  # Resize image to desired dimensions\n",
    "            images.append(img)\n",
    "            labels.append(label1)\n",
    "\n",
    "    images = np.array(images)\n",
    "    labels = np.array(labels)\n",
    "\n",
    "    return images, labels"
   ],
   "metadata": {
    "collapsed": false,
    "ExecuteTime": {
     "end_time": "2024-03-13T08:58:46.403233Z",
     "start_time": "2024-03-13T08:58:46.388272Z"
    }
   },
   "id": "ce6f6c9e16135ab5",
   "execution_count": 4
  },
  {
   "cell_type": "code",
   "outputs": [],
   "source": [
    "imagesTrain, labelsTrain = load_images_from_folder(\"Train1\")\n"
   ],
   "metadata": {
    "collapsed": false,
    "ExecuteTime": {
     "end_time": "2024-03-13T08:59:54.200861Z",
     "start_time": "2024-03-13T08:58:46.407221Z"
    }
   },
   "id": "d440c91c3039b742",
   "execution_count": 5
  },
  {
   "cell_type": "code",
   "outputs": [],
   "source": [
    "imagesTest, labelsTest = load_images_from_folder(\"Test1\")\n"
   ],
   "metadata": {
    "collapsed": false,
    "ExecuteTime": {
     "end_time": "2024-03-13T09:00:11.575151Z",
     "start_time": "2024-03-13T08:59:54.202857Z"
    }
   },
   "id": "444fe8dd33b764ee",
   "execution_count": 6
  },
  {
   "cell_type": "code",
   "outputs": [],
   "source": [
    "imagesTrain, labelsTrain = load_images_from_folder(\"Train1\")\n",
    "\n",
    "X_train_flat = imagesTrain.reshape(imagesTrain.shape[0], -1)\n",
    "X_test_flat = imagesTest.reshape(imagesTest.shape[0], -1)\n",
    "history = model.fit(X_train_flat, labelsTrain)"
   ],
   "metadata": {
    "collapsed": false,
    "ExecuteTime": {
     "end_time": "2024-03-13T09:08:22.847403Z",
     "start_time": "2024-03-13T09:00:11.577147Z"
    }
   },
   "id": "30022e1e4a79c434",
   "execution_count": 7
  },
  {
   "cell_type": "code",
   "outputs": [
    {
     "name": "stdout",
     "output_type": "stream",
     "text": [
      "Точність моделі: 0.6440677966101694\n"
     ]
    }
   ],
   "source": [
    "\n",
    "from sklearn.metrics import accuracy_score\n",
    "y_pred = model.predict(X_test_flat)\n",
    "\n",
    "# Оцінка точності\n",
    "accuracy = accuracy_score(labelsTest, y_pred)\n",
    "print(\"Точність моделі:\", accuracy)"
   ],
   "metadata": {
    "collapsed": false,
    "ExecuteTime": {
     "end_time": "2024-03-13T09:40:24.434387Z",
     "start_time": "2024-03-13T09:40:24.258848Z"
    }
   },
   "id": "5f68b78b4331976a",
   "execution_count": 9
  },
  {
   "cell_type": "code",
   "outputs": [],
   "source": [],
   "metadata": {
    "collapsed": false
   },
   "id": "f8753612e5be113b"
  }
 ],
 "metadata": {
  "kernelspec": {
   "display_name": "Python 3",
   "language": "python",
   "name": "python3"
  },
  "language_info": {
   "codemirror_mode": {
    "name": "ipython",
    "version": 2
   },
   "file_extension": ".py",
   "mimetype": "text/x-python",
   "name": "python",
   "nbconvert_exporter": "python",
   "pygments_lexer": "ipython2",
   "version": "2.7.6"
  }
 },
 "nbformat": 4,
 "nbformat_minor": 5
}
